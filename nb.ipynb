{
 "cells": [
  {
   "cell_type": "code",
   "execution_count": 11,
   "metadata": {},
   "outputs": [],
   "source": [
    "import duckdb\n",
    "from kingsleague import *"
   ]
  },
  {
   "cell_type": "code",
   "execution_count": 12,
   "metadata": {},
   "outputs": [
    {
     "name": "stdout",
     "output_type": "stream",
     "text": [
      "Le script SQL 'test.sql' a été exécuté avec succès.\n"
     ]
    }
   ],
   "source": [
    "import duckdb\n",
    "\n",
    "# Nom du fichier de la base de données\n",
    "db_file = 'KINGSLEAGUEfrance.db'\n",
    "\n",
    "# Nom du fichier SQL contenant la création des tables\n",
    "sql_file = 'test.sql'\n",
    "\n",
    "# Se connecter à la base de données (crée le fichier si inexistant)\n",
    "conn = duckdb.connect(db_file)\n",
    "\n",
    "try:\n",
    "    with open(sql_file, 'r') as f:\n",
    "        sql_script = f.read()\n",
    "\n",
    "    # Exécuter le script SQL\n",
    "    conn.execute(sql_script)\n",
    "    conn.commit()\n",
    "    print(f\"Le script SQL '{sql_file}' a été exécuté avec succès.\")\n",
    "\n",
    "except FileNotFoundError:\n",
    "    print(f\"Erreur : Le fichier SQL '{sql_file}' n'a pas été trouvé.\")\n",
    "except duckdb.Error as e:\n",
    "    print(f\"Une erreur est survenue lors de l'exécution du script SQL : {e}\")\n",
    "\n",
    "finally:\n",
    "    # Fermer la connexion\n",
    "    if conn:\n",
    "        conn.close()"
   ]
  },
  {
   "cell_type": "code",
   "execution_count": 13,
   "metadata": {},
   "outputs": [
    {
     "name": "stdout",
     "output_type": "stream",
     "text": [
      "L'équipe '360 Nation' a été ajoutée avec succès.\n",
      "L'équipe 'F2R' a été ajoutée avec succès.\n",
      "L'équipe 'FC SILMI' a été ajoutée avec succès.\n",
      "L'équipe 'Generation Seven' a été ajoutée avec succès.\n",
      "L'équipe 'KARASU' a été ajoutée avec succès.\n",
      "L'équipe 'PANAM ALL STARZ' a été ajoutée avec succès.\n",
      "L'équipe 'Unit3d' a été ajoutée avec succès.\n",
      "L'équipe 'Wolf Pack' a été ajoutée avec succès.\n"
     ]
    }
   ],
   "source": [
    "equipes_et_presidents = {\n",
    "    \"360 Nation\": [\"Tchouameni\", \"Koundé\", \"Maignan\", \"Kone\", \"Mbeumo\", \"Mayulu\"],\n",
    "    \"F2R\": [\"Aminematue\", \"Samir Nasri\", \"Jérémy Ménez\"],\n",
    "    \"FC SILMI\": [\"Domingo\"],\n",
    "    \"Generation Seven\": [\"Michou\"],\n",
    "    \"KARASU\": [\"Kameto\"],\n",
    "    \"PANAM ALL STARZ\": [\"Pfut\"],\n",
    "    \"Unit3d\": [\"Squeezie\", \"Djilsi\", \"Maxime Biaggi\"],\n",
    "    \"Wolf Pack\" : [\"Adil Rami\"]\n",
    "}\n",
    "# Se connecter à la base de données\n",
    "conn = duckdb.connect(db_file)\n",
    "\n",
    "try:\n",
    "    for nom_equipe in equipes_et_presidents:\n",
    "        conn.execute(\"INSERT INTO equipe VALUES (nextval('seq_equipe_id'), ?)\", (nom_equipe,))\n",
    "        print(f\"L'équipe '{nom_equipe}' a été ajoutée avec succès.\")\n",
    "\n",
    "    conn.commit()\n",
    "\n",
    "except duckdb.Error as e:\n",
    "    print(f\"Une erreur est survenue lors de l'insertion : {e}\")\n",
    "\n",
    "finally:\n",
    "    if conn:\n",
    "        conn.close()"
   ]
  },
  {
   "cell_type": "code",
   "execution_count": 14,
   "metadata": {},
   "outputs": [
    {
     "name": "stdout",
     "output_type": "stream",
     "text": [
      "✅ Président 'Tchouameni' ajouté à l'équipe '360 Nation' (ID 1).\n",
      "✅ Président 'Koundé' ajouté à l'équipe '360 Nation' (ID 1).\n",
      "✅ Président 'Maignan' ajouté à l'équipe '360 Nation' (ID 1).\n",
      "✅ Président 'Kone' ajouté à l'équipe '360 Nation' (ID 1).\n",
      "✅ Président 'Mbeumo' ajouté à l'équipe '360 Nation' (ID 1).\n",
      "✅ Président 'Mayulu' ajouté à l'équipe '360 Nation' (ID 1).\n",
      "✅ Président 'Aminematue' ajouté à l'équipe 'F2R' (ID 2).\n",
      "✅ Président 'Samir Nasri' ajouté à l'équipe 'F2R' (ID 2).\n",
      "✅ Président 'Jérémy Ménez' ajouté à l'équipe 'F2R' (ID 2).\n",
      "✅ Président 'Domingo' ajouté à l'équipe 'FC SILMI' (ID 3).\n",
      "✅ Président 'Michou' ajouté à l'équipe 'Generation Seven' (ID 4).\n",
      "✅ Président 'Kameto' ajouté à l'équipe 'KARASU' (ID 5).\n",
      "✅ Président 'Pfut' ajouté à l'équipe 'PANAM ALL STARZ' (ID 6).\n",
      "✅ Président 'Squeezie' ajouté à l'équipe 'Unit3d' (ID 7).\n",
      "✅ Président 'Djilsi' ajouté à l'équipe 'Unit3d' (ID 7).\n",
      "✅ Président 'Maxime Biaggi' ajouté à l'équipe 'Unit3d' (ID 7).\n",
      "✅ Président 'Adil Rami' ajouté à l'équipe 'Wolf Pack' (ID 8).\n"
     ]
    }
   ],
   "source": [
    "conn = duckdb.connect(db_file)\n",
    "\n",
    "try:\n",
    "    for equipe, presidents in equipes_et_presidents.items():\n",
    "        # Récupérer l'equipe_id à partir du nom de l'équipe\n",
    "        result = conn.execute(\"SELECT equipe_id FROM equipe WHERE nom = ?\", (equipe,)).fetchone()\n",
    "        if result is None:\n",
    "            print(f\"⚠️ Équipe '{equipe}' introuvable dans la base.\")\n",
    "            continue\n",
    "\n",
    "        equipe_id = result[0]\n",
    "\n",
    "        # Insérer les présidents associés à cette équipe\n",
    "        for president in presidents:\n",
    "            conn.execute(\n",
    "                \"INSERT INTO president VALUES (nextval('seq_president_id'), ?, ?)\",\n",
    "                (president, equipe_id)\n",
    "            )\n",
    "            print(f\"✅ Président '{president}' ajouté à l'équipe '{equipe}' (ID {equipe_id}).\")\n",
    "\n",
    "    conn.commit()\n",
    "\n",
    "except duckdb.Error as e:\n",
    "    print(f\"❌ Une erreur est survenue : {e}\")\n",
    "\n",
    "finally:\n",
    "    if conn:\n",
    "        conn.close()"
   ]
  },
  {
   "cell_type": "code",
   "execution_count": 35,
   "metadata": {},
   "outputs": [],
   "source": [
    "def inserer_joueurs(nom_equipe, joueurs, db_file='kingsleaguefrance.db'):\n",
    "    \"\"\"\n",
    "    Insère une liste de joueurs dans la base de données DuckDB.\n",
    "\n",
    "    :param nom_equipe: Nom de l'équipe associée aux joueurs\n",
    "    :param joueurs: Liste de tuples (nom, poste, note, wildcard)\n",
    "    :param db_file: Fichier de base de données DuckDB\n",
    "    \"\"\"\n",
    "    conn = duckdb.connect(db_file)\n",
    "\n",
    "    try:\n",
    "        # Récupérer l'equipe_id à partir du nom de l'équipe\n",
    "        result = conn.execute(\"SELECT equipe_id FROM equipe WHERE nom = ?\", (nom_equipe,)).fetchone()\n",
    "\n",
    "        \n",
    "        if result is None:\n",
    "            print(f\"⚠️ Équipe '{nom_equipe}' introuvable.\")\n",
    "            return\n",
    "        \n",
    "        equipe_id = result[0]\n",
    "\n",
    "        # Insérer les joueurs un par un\n",
    "        for nom, poste, note, wildcard in joueurs:\n",
    "            conn.execute(\n",
    "                \"\"\"\n",
    "                INSERT INTO joueur (joueur_id, nom, equipe_id, poste, note, wildcard)\n",
    "                VALUES (nextval('seq_joueur_id'), ?, ?, ?, ?, ?)\n",
    "                \"\"\",\n",
    "                (nom, equipe_id, poste, note, wildcard)\n",
    "            )\n",
    "            print(f\"✅ Joueur '{nom}' inséré (poste={poste}, note={note}, wildcard={wildcard})\")\n",
    "\n",
    "        conn.commit()\n",
    "\n",
    "    except duckdb.Error as e:\n",
    "        print(f\"❌ Erreur lors de l'insertion : {e}\")\n",
    "\n",
    "    finally:\n",
    "        conn.close()\n"
   ]
  },
  {
   "cell_type": "code",
   "execution_count": 38,
   "metadata": {},
   "outputs": [
    {
     "name": "stdout",
     "output_type": "stream",
     "text": [
      "✅ Joueur 'Felice Maestro' inséré (poste=Entraîneur, note=None, wildcard=False)\n",
      "✅ Joueur 'Yann Mvita' inséré (poste=Défenseur, note=78, wildcard=False)\n",
      "✅ Joueur 'Christophe Rodrigues Silva' inséré (poste=Attaquant, note=75, wildcard=False)\n",
      "✅ Joueur 'Marco Alarcon' inséré (poste=Défenseur, note=79, wildcard=False)\n",
      "✅ Joueur 'Ilian Hamoum' inséré (poste=Milieu de terrain, note=71, wildcard=False)\n",
      "✅ Joueur 'Mohamed Tbahriti' inséré (poste=Attaquant, note=77, wildcard=False)\n",
      "✅ Joueur 'JMK' inséré (poste=Gardien de but, note=84, wildcard=False)\n",
      "✅ Joueur 'Assilenou Toviave' inséré (poste=Défenseur, note=75, wildcard=False)\n",
      "✅ Joueur 'Bilel Boucheker' inséré (poste=Attaquant, note=77, wildcard=False)\n",
      "✅ Joueur 'Leny Gomez' inséré (poste=Attaquant, note=82, wildcard=False)\n",
      "✅ Joueur 'Hamed Karamoko' inséré (poste=Milieu de terrain, note=81, wildcard=False)\n",
      "✅ Joueur 'Landry N'Gala' inséré (poste=Attaquant, note=None, wildcard=True)\n",
      "✅ Joueur 'Daniel Mendy' inséré (poste=Milieu de terrain, note=None, wildcard=True)\n",
      "✅ Joueur 'Skander Si Chaib' inséré (poste=Milieu de terrain, note=None, wildcard=True)\n"
     ]
    }
   ],
   "source": [
    "joueurs_360Nation = [\n",
    "    (\"Felice Maestro\", \"Entraîneur\", None, False),\n",
    "    (\"Yann Mvita\", \"Défenseur\", 78, False),\n",
    "    (\"Christophe Rodrigues Silva\", \"Attaquant\", 75, False),\n",
    "    (\"Marco Alarcon\", \"Défenseur\", 79, False),\n",
    "    (\"Ilian Hamoum\", \"Milieu de terrain\", 71, False),\n",
    "    (\"Mohamed Tbahriti\", \"Attaquant\", 77, False),\n",
    "    (\"JMK\", \"Gardien de but\", 84, False),\n",
    "    (\"Assilenou Toviave\", \"Défenseur\", 75, False),\n",
    "    (\"Bilel Boucheker\", \"Attaquant\", 77, False),\n",
    "    (\"Leny Gomez\", \"Attaquant\", 82, False),\n",
    "    (\"Hamed Karamoko\", \"Milieu de terrain\", 81, False),\n",
    "    (\"Landry N'Gala\", \"Attaquant\", None, True),\n",
    "    (\"Daniel Mendy\", \"Milieu de terrain\", None, True),\n",
    "    (\"Skander Si Chaib\", \"Milieu de terrain\", None, True)\n",
    "]\n",
    "\n",
    "inserer_joueurs(\"360 Nation\", joueurs_360Nation)"
   ]
  },
  {
   "cell_type": "code",
   "execution_count": 39,
   "metadata": {},
   "outputs": [
    {
     "name": "stdout",
     "output_type": "stream",
     "text": [
      "✅ Joueur 'Samir Nasri' inséré (poste=Entraîneur, note=None, wildcard=False)\n",
      "✅ Joueur 'Amara Fofana' inséré (poste=Attaquant, note=76, wildcard=False)\n",
      "✅ Joueur 'Sahir Boumhand' inséré (poste=Défenseur, note=83, wildcard=False)\n",
      "✅ Joueur 'Louka Masset' inséré (poste=Défenseur, note=80, wildcard=False)\n",
      "✅ Joueur 'Allan Rakotovazaha' inséré (poste=Gardien de but, note=83, wildcard=False)\n",
      "✅ Joueur 'Safwane Ben Hariz' inséré (poste=Défenseur, note=83, wildcard=False)\n",
      "✅ Joueur 'Andy Wothor' inséré (poste=Attaquant, note=83, wildcard=False)\n",
      "✅ Joueur 'Haris El Mouttaqi' inséré (poste=Attaquant, note=81, wildcard=False)\n",
      "✅ Joueur 'Sofiane Chenaa' inséré (poste=Milieu de terrain, note=78, wildcard=False)\n",
      "✅ Joueur 'Rayan Tahar' inséré (poste=Défenseur, note=78, wildcard=False)\n",
      "✅ Joueur 'William Harhouz' inséré (poste=Attaquant, note=78, wildcard=False)\n",
      "✅ Joueur 'Kevin Bru' inséré (poste=Milieu de terrain, note=83, wildcard=False)\n"
     ]
    }
   ],
   "source": [
    "joueurs_F2R = [\n",
    "    (\"Samir Nasri\", \"Entraîneur\", None, False),\n",
    "    (\"Amara Fofana\", \"Attaquant\", 76, False),\n",
    "    (\"Sahir Boumhand\", \"Défenseur\", 83, False),\n",
    "    (\"Louka Masset\", \"Défenseur\", 80, False),\n",
    "    (\"Allan Rakotovazaha\", \"Gardien de but\", 83, False),\n",
    "    (\"Safwane Ben Hariz\", \"Défenseur\", 83, False),\n",
    "    (\"Andy Wothor\", \"Attaquant\", 83, False),\n",
    "    (\"Haris El Mouttaqi\", \"Attaquant\", 81, False),\n",
    "    (\"Sofiane Chenaa\", \"Milieu de terrain\", 78, False),\n",
    "    (\"Rayan Tahar\", \"Défenseur\", 78, False),\n",
    "    (\"William Harhouz\", \"Attaquant\", 78, False),\n",
    "    (\"Kevin Bru\", \"Milieu de terrain\", 83, False)\n",
    "]\n",
    "inserer_joueurs(\"F2R\", joueurs_F2R)"
   ]
  },
  {
   "cell_type": "code",
   "execution_count": 37,
   "metadata": {},
   "outputs": [
    {
     "name": "stdout",
     "output_type": "stream",
     "text": [
      "✅ Joueur 'Maktoum Abdelhack' inséré (poste=Entraîneur, note=None, wildcard=False)\n",
      "✅ Joueur 'Leandro Fernandes' inséré (poste=Gardien de but, note=74, wildcard=False)\n",
      "✅ Joueur 'Allan Eloundou Mani' inséré (poste=Milieu de terrain, note=70, wildcard=False)\n",
      "✅ Joueur 'Clément Michelet' inséré (poste=Milieu de terrain, note=82, wildcard=False)\n",
      "✅ Joueur 'Jhon Suarez' inséré (poste=Milieu de terrain, note=78, wildcard=False)\n",
      "✅ Joueur 'Lukas Jeremie' inséré (poste=Défenseur, note=70, wildcard=False)\n",
      "✅ Joueur 'Nicolas Le Metayer' inséré (poste=Défenseur, note=78, wildcard=False)\n",
      "✅ Joueur 'Maxime Dague' inséré (poste=Gardien de but, note=83, wildcard=False)\n",
      "✅ Joueur 'Bilal Hadraoui' inséré (poste=Défenseur, note=71, wildcard=False)\n",
      "✅ Joueur 'Abdel-Amine Tran' inséré (poste=Milieu de terrain, note=76, wildcard=False)\n",
      "✅ Joueur 'Liam Mirandon' inséré (poste=Attaquant, note=83, wildcard=False)\n",
      "✅ Joueur 'Guilherme Carvalho Feitosa' inséré (poste=Milieu de terrain, note=None, wildcard=True)\n",
      "✅ Joueur 'André Nascimento de Oliveira' inséré (poste=Attaquant, note=None, wildcard=True)\n",
      "✅ Joueur 'Adama Dhee' inséré (poste=Attaquant, note=None, wildcard=True)\n"
     ]
    }
   ],
   "source": [
    "import duckdb\n",
    "\n",
    "# 'wildcard' est défini sur True ou False selon le cas\n",
    "joueurs_FCSILMI = [\n",
    "    (\"Maktoum Abdelhack\", \"Entraîneur\", None, False),\n",
    "    (\"Leandro Fernandes\", \"Gardien de but\", 74, False),\n",
    "    (\"Allan Eloundou Mani\", \"Milieu de terrain\", 70, False),\n",
    "    (\"Clément Michelet\", \"Milieu de terrain\", 82, False),\n",
    "    (\"Jhon Suarez\", \"Milieu de terrain\", 78, False),\n",
    "    (\"Lukas Jeremie\", \"Défenseur\", 70, False),\n",
    "    (\"Nicolas Le Metayer\", \"Défenseur\", 78, False),\n",
    "    (\"Maxime Dague\", \"Gardien de but\", 83, False),\n",
    "    (\"Bilal Hadraoui\", \"Défenseur\", 71, False),\n",
    "    (\"Abdel-Amine Tran\", \"Milieu de terrain\", 76, False),\n",
    "    (\"Liam Mirandon\", \"Attaquant\", 83, False),\n",
    "    # Joueurs wildcard\n",
    "    (\"Guilherme Carvalho Feitosa\", \"Milieu de terrain\", None, True),\n",
    "    (\"André Nascimento de Oliveira\", \"Attaquant\", None, True),\n",
    "    (\"Adama Dhee\", \"Attaquant\", None, True)\n",
    "]\n",
    "\n",
    "inserer_joueurs(\"FC SILMI\", joueurs_FCSILMI)"
   ]
  },
  {
   "cell_type": "code",
   "execution_count": 41,
   "metadata": {},
   "outputs": [
    {
     "name": "stdout",
     "output_type": "stream",
     "text": [
      "✅ Joueur 'Djibril Cissé' inséré (poste=Entraîneur, note=None, wildcard=False)\n",
      "✅ Joueur 'Yllan Ait-Ouarab' inséré (poste=Milieu de terrain, note=75, wildcard=False)\n",
      "✅ Joueur 'Mehdi Tenniche' inséré (poste=Défenseur, note=73, wildcard=False)\n",
      "✅ Joueur 'Brunnel Tutuana Theun Tatuom' inséré (poste=Défenseur, note=78, wildcard=False)\n",
      "✅ Joueur 'Mamoudou Cissokho' inséré (poste=Attaquant, note=77, wildcard=False)\n",
      "✅ Joueur 'Clement Goguey' inséré (poste=Milieu de terrain, note=82, wildcard=False)\n",
      "✅ Joueur 'Solal Pelmard-Bassi' inséré (poste=Gardien de but, note=76, wildcard=False)\n",
      "✅ Joueur 'Enzo Dron' inséré (poste=Milieu de terrain, note=82, wildcard=False)\n",
      "✅ Joueur 'Nyls Gomez' inséré (poste=Milieu de terrain, note=71, wildcard=False)\n",
      "✅ Joueur 'Yonni Bouguerra' inséré (poste=Gardien de but, note=80, wildcard=False)\n",
      "✅ Joueur 'Driss Zidane' inséré (poste=Milieu de terrain, note=76, wildcard=False)\n",
      "✅ Joueur 'Hugo Rubio' inséré (poste=None, note=None, wildcard=True)\n",
      "✅ Joueur 'Paul-Georges Ntep' inséré (poste=None, note=None, wildcard=True)\n",
      "✅ Joueur 'Yacouba Sylla' inséré (poste=None, note=None, wildcard=True)\n"
     ]
    }
   ],
   "source": [
    "joueurs_G7 = [\n",
    "    (\"Djibril Cissé\", \"Entraîneur\", None, False),\n",
    "    (\"Yllan Ait-Ouarab\", \"Milieu de terrain\", 75, False),\n",
    "    (\"Mehdi Tenniche\", \"Défenseur\", 73, False),\n",
    "    (\"Brunnel Tutuana Theun Tatuom\", \"Défenseur\", 78, False),\n",
    "    (\"Mamoudou Cissokho\", \"Attaquant\", 77, False),\n",
    "    (\"Clement Goguey\", \"Milieu de terrain\", 82, False),\n",
    "    (\"Solal Pelmard-Bassi\", \"Gardien de but\", 76, False),\n",
    "    (\"Enzo Dron\", \"Milieu de terrain\", 82, False),\n",
    "    (\"Nyls Gomez\", \"Milieu de terrain\", 71, False),\n",
    "    (\"Yonni Bouguerra\", \"Gardien de but\", 80, False),\n",
    "    (\"Driss Zidane\", \"Milieu de terrain\", 76, False),\n",
    "    (\"Hugo Rubio\", None, None, True),\n",
    "    (\"Paul-Georges Ntep\", None, None, True),\n",
    "    (\"Yacouba Sylla\", None, None, True)\n",
    "]\n",
    "inserer_joueurs(\"Generation Seven\", joueurs_G7)"
   ]
  },
  {
   "cell_type": "code",
   "execution_count": 42,
   "metadata": {},
   "outputs": [
    {
     "name": "stdout",
     "output_type": "stream",
     "text": [
      "✅ Joueur 'Sabry Bezahaf' inséré (poste=Entraîneur, note=None, wildcard=False)\n",
      "✅ Joueur 'Yacine Ben Cherki' inséré (poste=Gardien de but, note=75, wildcard=False)\n",
      "✅ Joueur 'Salim Abdou Mohamed' inséré (poste=Attaquant, note=76, wildcard=False)\n",
      "✅ Joueur 'Alexandre Fakir' inséré (poste=Milieu de terrain, note=77, wildcard=False)\n",
      "✅ Joueur 'Zinedine Ayadi' inséré (poste=Milieu de terrain, note=77, wildcard=False)\n",
      "✅ Joueur 'Abdelhamid Touati' inséré (poste=Défenseur, note=78, wildcard=False)\n",
      "✅ Joueur 'Ahmed Ouachani' inséré (poste=Milieu de terrain, note=77, wildcard=False)\n",
      "✅ Joueur 'Mehdi Gacem' inséré (poste=Défenseur, note=76, wildcard=False)\n",
      "✅ Joueur 'Mohammed Berrabah' inséré (poste=Défenseur, note=84, wildcard=False)\n",
      "✅ Joueur 'Kevin Kuya' inséré (poste=Milieu de terrain, note=75, wildcard=False)\n",
      "✅ Joueur 'Bilal Bouchelouche' inséré (poste=Gardien de but, note=79, wildcard=False)\n",
      "✅ Joueur 'Mehdi Marin' inséré (poste=Attaquant, note=None, wildcard=True)\n",
      "✅ Joueur 'Hicham Rougab' inséré (poste=Attaquant, note=None, wildcard=True)\n",
      "✅ Joueur 'Mounir Gagui' inséré (poste=Milieu de terrain, note=None, wildcard=True)\n"
     ]
    }
   ],
   "source": [
    "joueurs_KARASU= [\n",
    "    (\"Sabry Bezahaf\", \"Entraîneur\", None, False),\n",
    "    (\"Yacine Ben Cherki\", \"Gardien de but\", 75, False),\n",
    "    (\"Salim Abdou Mohamed\", \"Attaquant\", 76, False),\n",
    "    (\"Alexandre Fakir\", \"Milieu de terrain\", 77, False),\n",
    "    (\"Zinedine Ayadi\", \"Milieu de terrain\", 77, False),\n",
    "    (\"Abdelhamid Touati\", \"Défenseur\", 78, False),\n",
    "    (\"Ahmed Ouachani\", \"Milieu de terrain\", 77, False),\n",
    "    (\"Mehdi Gacem\", \"Défenseur\", 76, False),\n",
    "    (\"Mohammed Berrabah\", \"Défenseur\", 84, False),\n",
    "    (\"Kevin Kuya\", \"Milieu de terrain\", 75, False),\n",
    "    (\"Bilal Bouchelouche\", \"Gardien de but\", 79, False),\n",
    "    (\"Mehdi Marin\", \"Attaquant\", None, True),\n",
    "    (\"Hicham Rougab\", \"Attaquant\", None, True),\n",
    "    (\"Mounir Gagui\", \"Milieu de terrain\", None, True)\n",
    "]\n",
    "\n",
    "inserer_joueurs(\"KARASU\", joueurs_KARASU)"
   ]
  },
  {
   "cell_type": "code",
   "execution_count": 43,
   "metadata": {},
   "outputs": [
    {
     "name": "stdout",
     "output_type": "stream",
     "text": [
      "✅ Joueur 'Saïd Dorbani' inséré (poste=Entraîneur, note=None, wildcard=False)\n",
      "✅ Joueur 'Phi-Long Tran' inséré (poste=Attaquant, note=83, wildcard=False)\n",
      "✅ Joueur 'Nzaba Lungituka' inséré (poste=Défenseur, note=78, wildcard=False)\n",
      "✅ Joueur 'Adama Wagui' inséré (poste=Gardien de but, note=73, wildcard=False)\n",
      "✅ Joueur 'Daniel Mboudou' inséré (poste=Attaquant, note=83, wildcard=False)\n",
      "✅ Joueur 'Idir Ahmin' inséré (poste=Milieu de terrain, note=77, wildcard=False)\n",
      "✅ Joueur 'Louis Coppin' inséré (poste=Attaquant, note=78, wildcard=False)\n",
      "✅ Joueur 'Guillaume Lesec' inséré (poste=Gardien de but, note=79, wildcard=False)\n",
      "✅ Joueur 'Alric Francisco' inséré (poste=Défenseur, note=76, wildcard=False)\n",
      "✅ Joueur 'Nicolas Martins' inséré (poste=Milieu de terrain, note=83, wildcard=False)\n",
      "✅ Joueur 'José Pereira Do Amaral' inséré (poste=Défenseur, note=77, wildcard=False)\n",
      "✅ Joueur 'Harrison Manzala' inséré (poste=Milieu de terrain, note=None, wildcard=True)\n",
      "✅ Joueur 'Nassim L'Ghoul' inséré (poste=None, note=None, wildcard=True)\n",
      "✅ Joueur 'Sofiane Bendaoud' inséré (poste=None, note=None, wildcard=True)\n"
     ]
    }
   ],
   "source": [
    "joueurs_PANAME_ALLSTAR = [\n",
    "    (\"Saïd Dorbani\", \"Entraîneur\", None, False),\n",
    "    (\"Phi-Long Tran\", \"Attaquant\", 83, False),\n",
    "    (\"Nzaba Lungituka\", \"Défenseur\", 78, False),\n",
    "    (\"Adama Wagui\", \"Gardien de but\", 73, False),\n",
    "    (\"Daniel Mboudou\", \"Attaquant\", 83, False),\n",
    "    (\"Idir Ahmin\", \"Milieu de terrain\", 77, False),\n",
    "    (\"Louis Coppin\", \"Attaquant\", 78, False),\n",
    "    (\"Guillaume Lesec\", \"Gardien de but\", 79, False),\n",
    "    (\"Alric Francisco\", \"Défenseur\", 76, False),\n",
    "    (\"Nicolas Martins\", \"Milieu de terrain\", 83, False),\n",
    "    (\"José Pereira Do Amaral\", \"Défenseur\", 77, False),\n",
    "    (\"Harrison Manzala\", \"Milieu de terrain\", None, True),\n",
    "    (\"Nassim L'Ghoul\", None, None, True),\n",
    "    (\"Sofiane Bendaoud\", None, None, True)\n",
    "]\n",
    "inserer_joueurs(\"PANAM ALL STARZ\", joueurs_PANAME_ALLSTAR)\n"
   ]
  },
  {
   "cell_type": "code",
   "execution_count": 44,
   "metadata": {},
   "outputs": [
    {
     "name": "stdout",
     "output_type": "stream",
     "text": [
      "✅ Joueur 'Campi Grégory' inséré (poste=Entraîneur, note=None, wildcard=False)\n",
      "✅ Joueur 'Marvin Emmanuel' inséré (poste=Attaquant, note=82, wildcard=False)\n",
      "✅ Joueur 'Alseny Sano' inséré (poste=Défenseur, note=75, wildcard=False)\n",
      "✅ Joueur 'Abdraman Toure' inséré (poste=Attaquant, note=82, wildcard=False)\n",
      "✅ Joueur 'Van Landry Nguekam' inséré (poste=Défenseur, note=71, wildcard=False)\n",
      "✅ Joueur 'Louis Lapouge' inséré (poste=Attaquant, note=72, wildcard=False)\n",
      "✅ Joueur 'Yassine Skira' inséré (poste=Milieu de terrain, note=72, wildcard=False)\n",
      "✅ Joueur 'Florian Forestier' inséré (poste=Gardien de but, note=83, wildcard=False)\n",
      "✅ Joueur 'Théo Chendri' inséré (poste=Milieu de terrain, note=83, wildcard=False)\n",
      "✅ Joueur 'Alex Diliberto' inséré (poste=Milieu de terrain, note=71, wildcard=False)\n",
      "✅ Joueur 'Youssef Khatiri' inséré (poste=Défenseur, note=72, wildcard=False)\n",
      "✅ Joueur 'Baptiste Macon' inséré (poste=Milieu de terrain, note=None, wildcard=True)\n",
      "✅ Joueur 'Anthony SCARAMOZZINO' inséré (poste=Défenseur, note=None, wildcard=True)\n",
      "✅ Joueur 'Emmanuel Mifsud' inséré (poste=Gardien de but, note=None, wildcard=True)\n"
     ]
    }
   ],
   "source": [
    "joueurs_united = [\n",
    "    (\"Campi Grégory\", \"Entraîneur\", None, False),\n",
    "    (\"Marvin Emmanuel\", \"Attaquant\", 82, False),\n",
    "    (\"Alseny Sano\", \"Défenseur\", 75, False),\n",
    "    (\"Abdraman Toure\", \"Attaquant\", 82, False),\n",
    "    (\"Van Landry Nguekam\", \"Défenseur\", 71, False),\n",
    "    (\"Louis Lapouge\", \"Attaquant\", 72, False),\n",
    "    (\"Yassine Skira\", \"Milieu de terrain\", 72, False),\n",
    "    (\"Florian Forestier\", \"Gardien de but\", 83, False),\n",
    "    (\"Théo Chendri\", \"Milieu de terrain\", 83, False),\n",
    "    (\"Alex Diliberto\", \"Milieu de terrain\", 71, False),\n",
    "    (\"Youssef Khatiri\", \"Défenseur\", 72, False),\n",
    "    (\"Baptiste Macon\", \"Milieu de terrain\", None, True),\n",
    "    (\"Anthony SCARAMOZZINO\", \"Défenseur\", None, True),\n",
    "    (\"Emmanuel Mifsud\", \"Gardien de but\", None, True)\n",
    "]\n",
    "\n",
    "inserer_joueurs(\"Unit3d\", joueurs_united)"
   ]
  },
  {
   "cell_type": "code",
   "execution_count": 45,
   "metadata": {},
   "outputs": [
    {
     "name": "stdout",
     "output_type": "stream",
     "text": [
      "✅ Joueur 'Yohan Di Tommaso' inséré (poste=Entraîneur, note=None, wildcard=False)\n",
      "✅ Joueur 'Jordan Boli' inséré (poste=Défenseur, note=83, wildcard=False)\n",
      "✅ Joueur 'Quentin Bakouzou' inséré (poste=Attaquant, note=77, wildcard=False)\n",
      "✅ Joueur 'Mathias Faillenot' inséré (poste=Défenseur, note=77, wildcard=False)\n",
      "✅ Joueur 'Mourad Khalfa' inséré (poste=Milieu de terrain, note=78, wildcard=False)\n",
      "✅ Joueur 'Dylan Djedor' inséré (poste=Milieu de terrain, note=72, wildcard=False)\n",
      "✅ Joueur 'Oscar Le Guillou' inséré (poste=Attaquant, note=75, wildcard=False)\n",
      "✅ Joueur 'Lotfi Djellaili' inséré (poste=Milieu de terrain, note=71, wildcard=False)\n",
      "✅ Joueur 'Alexandre Delarboulas' inséré (poste=Défenseur, note=85, wildcard=False)\n",
      "✅ Joueur 'Thibaut Pereira' inséré (poste=Gardien de but, note=77, wildcard=False)\n",
      "✅ Joueur 'Beendo Z' inséré (poste=Attaquant, note=78, wildcard=False)\n",
      "✅ Joueur 'Leo Colin' inséré (poste=Gardien de but, note=None, wildcard=True)\n",
      "✅ Joueur 'Adrien BARD' inséré (poste=Milieu de terrain, note=None, wildcard=True)\n",
      "✅ Joueur 'Jill Berardo' inséré (poste=Attaquant, note=None, wildcard=True)\n"
     ]
    }
   ],
   "source": [
    "joueurs_wolfpack = [\n",
    "    (\"Yohan Di Tommaso\", \"Entraîneur\", None, False),\n",
    "    (\"Jordan Boli\", \"Défenseur\", 83, False),\n",
    "    (\"Quentin Bakouzou\", \"Attaquant\", 77, False),\n",
    "    (\"Mathias Faillenot\", \"Défenseur\", 77, False),\n",
    "    (\"Mourad Khalfa\", \"Milieu de terrain\", 78, False),\n",
    "    (\"Dylan Djedor\", \"Milieu de terrain\", 72, False),\n",
    "    (\"Oscar Le Guillou\", \"Attaquant\", 75, False),\n",
    "    (\"Lotfi Djellaili\", \"Milieu de terrain\", 71, False),\n",
    "    (\"Alexandre Delarboulas\", \"Défenseur\", 85, False),\n",
    "    (\"Thibaut Pereira\", \"Gardien de but\", 77, False),\n",
    "    (\"Beendo Z\", \"Attaquant\", 78, False),\n",
    "    (\"Leo Colin\", \"Gardien de but\", None, True),\n",
    "    (\"Adrien BARD\", \"Milieu de terrain\", None, True),\n",
    "    (\"Jill Berardo\", \"Attaquant\", None, True)\n",
    "]\n",
    "\n",
    "inserer_joueurs(\"Wolf Pack\", joueurs_wolfpack)\n"
   ]
  }
 ],
 "metadata": {
  "kernelspec": {
   "display_name": "kingsleague",
   "language": "python",
   "name": "python3"
  },
  "language_info": {
   "codemirror_mode": {
    "name": "ipython",
    "version": 3
   },
   "file_extension": ".py",
   "mimetype": "text/x-python",
   "name": "python",
   "nbconvert_exporter": "python",
   "pygments_lexer": "ipython3",
   "version": "3.11.9"
  }
 },
 "nbformat": 4,
 "nbformat_minor": 2
}
